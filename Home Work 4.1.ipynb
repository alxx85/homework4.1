{
 "cells": [
  {
   "cell_type": "code",
   "execution_count": 153,
   "metadata": {},
   "outputs": [],
   "source": [
    "import pandas as pd\n",
    "from os import path"
   ]
  },
  {
   "cell_type": "code",
   "execution_count": 142,
   "metadata": {},
   "outputs": [],
   "source": [
    "path_dir = 'names'\n",
    "columns = ['Name', 'Sex', 'Count']"
   ]
  },
  {
   "cell_type": "code",
   "execution_count": 148,
   "metadata": {},
   "outputs": [],
   "source": [
    "def get_list(list_years):\n",
    "    return list(pd.read_csv(os.path.join(path_dir, 'yob' + f + '.txt'), names = columns) for f in list_years)    "
   ]
  },
  {
   "cell_type": "code",
   "execution_count": 145,
   "metadata": {},
   "outputs": [],
   "source": [
    "def count_top3(years_list):\n",
    "    frames = get_list(years_list)\n",
    "    fr1 = pd.concat(frames)\n",
    "    fr2 = fr1.groupby(['Name', 'Sex'], as_index = False).sum()\n",
    "    sort_frame = fr2.sort_values(by = 'Count', ascending = False)\n",
    "    print(f\"count_top3({years_list}) == {list(sort_frame['Name'].head(3))}\")"
   ]
  },
  {
   "cell_type": "code",
   "execution_count": 154,
   "metadata": {},
   "outputs": [],
   "source": [
    "def count_dinamics(years_list):\n",
    "    gender = {}\n",
    "    frames = get_list(years_list)\n",
    "    gender['F'] = list(fr[fr.Sex == 'F'].Count.sum() for fr in frames)\n",
    "    gender['M'] = list(fr[fr.Sex == 'M'].Count.sum() for fr in frames)\n",
    "    print(f'count_dinamics({years_list}) == {gender}')"
   ]
  },
  {
   "cell_type": "code",
   "execution_count": 155,
   "metadata": {},
   "outputs": [
    {
     "name": "stdout",
     "output_type": "stream",
     "text": [
      "Введите даты через запятую: 1900, 1950, 2000\n",
      "count_top3(['1900', '1950', '2000']) == ['James', 'John', 'Robert']\n",
      "count_dinamics(['1900', '1950', '2000']) == {'F': [299800, 1713151, 1815110], 'M': [150483, 1790549, 1962969]}\n"
     ]
    }
   ],
   "source": [
    "years = input('Введите даты через запятую: ')\n",
    "years_lst = years.split(', ')\n",
    "count_top3(years_lst)\n",
    "count_dinamics(years_lst)"
   ]
  },
  {
   "cell_type": "code",
   "execution_count": null,
   "metadata": {},
   "outputs": [],
   "source": []
  }
 ],
 "metadata": {
  "kernelspec": {
   "display_name": "Python 3",
   "language": "python",
   "name": "python3"
  },
  "language_info": {
   "codemirror_mode": {
    "name": "ipython",
    "version": 3
   },
   "file_extension": ".py",
   "mimetype": "text/x-python",
   "name": "python",
   "nbconvert_exporter": "python",
   "pygments_lexer": "ipython3",
   "version": "3.6.5"
  }
 },
 "nbformat": 4,
 "nbformat_minor": 2
}
